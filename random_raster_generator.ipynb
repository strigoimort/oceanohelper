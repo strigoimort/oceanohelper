{
 "cells": [
  {
   "cell_type": "code",
   "execution_count": null,
   "metadata": {},
   "outputs": [],
   "source": [
    "# Re-import necessary libraries after environment reset\n",
    "import random\n",
    "import numpy as np\n",
    "import pandas as pd\n",
    "\n",
    "# Define center point around Jepara, Indonesia\n",
    "center_lat, center_lon = -6.595, 110.6667  # Approximate coordinates for Jepara\n",
    "radius_km = 5  # Sampling radius in kilometers\n",
    "\n",
    "# Function to generate random points within a given radius (5 km here) around a central point\n",
    "def random_point_within_radius(center_lat, center_lon, radius_km):\n",
    "    # Earth radius in kilometers\n",
    "    earth_radius_km = 6371.0\n",
    "    \n",
    "    # Random distance within the radius\n",
    "    distance = random.uniform(0, radius_km) / earth_radius_km\n",
    "    # Random angle in radians\n",
    "    angle = random.uniform(0, 2 * np.pi)\n",
    "    \n",
    "    # Calculate new latitude and longitude\n",
    "    delta_lat = distance * np.cos(angle)\n",
    "    delta_lon = distance * np.sin(angle) / np.cos(np.radians(center_lat))\n",
    "    \n",
    "    new_lat = center_lat + np.degrees(delta_lat)\n",
    "    new_lon = center_lon + np.degrees(delta_lon)\n",
    "    \n",
    "    return new_lat, new_lon\n",
    "\n",
    "# Generate 50 random sampling points with nitrate levels\n",
    "n_samples = 50\n",
    "nitrate_data = {\n",
    "    \"Sample\": [],\n",
    "    \"Latitude\": [],\n",
    "    \"Longitude\": [],\n",
    "    \"Nitrate_Level_mg_L\": []\n",
    "}\n",
    "\n",
    "for i in range(1, n_samples + 1):\n",
    "    lat, lon = random_point_within_radius(center_lat, center_lon, radius_km)\n",
    "    nitrate_level = round(random.uniform(0.1, 3.0), 2)  # Random nitrate levels in mg/L\n",
    "    nitrate_data[\"Sample\"].append(f\"Sample {i}\")\n",
    "    nitrate_data[\"Latitude\"].append(lat)\n",
    "    nitrate_data[\"Longitude\"].append(lon)\n",
    "    nitrate_data[\"Nitrate_Level_mg_L\"].append(nitrate_level)\n",
    "\n",
    "# Convert to DataFrame\n",
    "df_nitrate = pd.DataFrame(nitrate_data)\n",
    "\n",
    "# Save to Excel file\n",
    "output_path = 'D:IMPORT/PRIVATE/oceanohelper/nitrate_sampling_jepara.xlsx'\n",
    "df_nitrate.to_excel(output_path, index=False)\n",
    "\n",
    "output_path"
   ]
  }
 ],
 "metadata": {
  "kernelspec": {
   "display_name": "Python 3",
   "language": "python",
   "name": "python3"
  },
  "language_info": {
   "name": "python",
   "version": "3.12.4"
  }
 },
 "nbformat": 4,
 "nbformat_minor": 2
}
